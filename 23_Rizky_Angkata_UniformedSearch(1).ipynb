{
  "nbformat": 4,
  "nbformat_minor": 0,
  "metadata": {
    "colab": {
      "provenance": [],
      "collapsed_sections": []
    },
    "kernelspec": {
      "name": "python3",
      "display_name": "Python 3"
    },
    "language_info": {
      "name": "python"
    }
  },
  "cells": [
    {
      "cell_type": "code",
      "execution_count": null,
      "metadata": {
        "colab": {
          "base_uri": "https://localhost:8080/"
        },
        "id": "Eqnj1lMS8gqk",
        "outputId": "56abce8f-c8f4-4c28-8e10-ef7673b85c51"
      },
      "outputs": [
        {
          "output_type": "stream",
          "name": "stdout",
          "text": [
            "Hasil penulusuran graf menggunakan BFS :\n",
            "A B F G E C D H "
          ]
        }
      ],
      "source": [
        "graph = {\n",
        "    'A' : ['B'],\n",
        "    'B' : ['A', 'F', 'G'],\n",
        "    'C' : ['D', 'G'],\n",
        "    'D' : ['C', 'H'],\n",
        "    'E' : ['F'],\n",
        "    'F' : ['B', 'E'],\n",
        "    'G' : ['B', 'C'],\n",
        "    'H' : ['D']\n",
        "}\n",
        "\n",
        "visited = []# list to keep track of visited nodes.\n",
        "queue = []# Initialize a queue\n",
        "\n",
        "def bfs(visited, grpah, node):\n",
        "  visited.append(node)\n",
        "  queue.append(node)\n",
        "\n",
        "  while queue:\n",
        "    s = queue.pop(0)\n",
        "    print (s, end = \" \")\n",
        "\n",
        "    for neighbour in graph[s]:\n",
        "      if neighbour not in visited:\n",
        "        visited.append(neighbour)\n",
        "        queue.append(neighbour)\n",
        "\n",
        "print(\"Hasil penulusuran graf menggunakan BFS :\")\n",
        "bfs(visited, graph, 'A')"
      ]
    },
    {
      "cell_type": "code",
      "source": [
        "#latihan 2\n",
        "\n",
        "graph{\n",
        "    'A' : ['B'],\n",
        "    'B' : ['A', 'F', 'G'],\n",
        "    'C' : \n",
        "}"
      ],
      "metadata": {
        "id": "vxf-p7ngSWgV"
      },
      "execution_count": null,
      "outputs": []
    },
    {
      "cell_type": "code",
      "source": [
        "graph = {\n",
        "    'A' : ['B',],\n",
        "    'B' : ['F', 'G'],\n",
        "    'C' : ['D', 'G'],\n",
        "    'D' : ['C', 'H'],\n",
        "    'E' : ['F'],\n",
        "    'F' : ['B', 'E'],\n",
        "    'G' : ['B', 'C',],\n",
        "    'H' : ['D',],\n",
        "}\n",
        "\n",
        "visited = set()\n",
        "\n",
        "def dfs(visited, graph, node):\n",
        "  if node not in visited:\n",
        "    print (node)\n",
        "    visited.add(node)\n",
        "    for neighbour in graph[node]:\n",
        "      dfs(visited, graph, neighbour)\n",
        "\n",
        "print(\"Hasil penelusuran graf menggunakan DFS:\")\n",
        "dfs(visited, graph, 'D')"
      ],
      "metadata": {
        "colab": {
          "base_uri": "https://localhost:8080/"
        },
        "id": "keMWIiygSYid",
        "outputId": "922e6457-721d-40e8-c71f-2e8f71f169ca"
      },
      "execution_count": null,
      "outputs": [
        {
          "output_type": "stream",
          "name": "stdout",
          "text": [
            "Hasil penelusuran graf menggunakan DFS:\n",
            "D\n",
            "C\n",
            "G\n",
            "B\n",
            "F\n",
            "E\n",
            "H\n"
          ]
        }
      ]
    },
    {
      "cell_type": "markdown",
      "source": [],
      "metadata": {
        "id": "NOGZ1IQsBEwJ"
      }
    },
    {
      "cell_type": "code",
      "source": [
        "graph = {\n",
        "    'A' : ['B', 'C'],\n",
        "    'B' : ['D', 'E'],\n",
        "    'C' : ['F'],\n",
        "    'D' : [],\n",
        "    'E' : ['F'],\n",
        "    'F' : ['H'],\n",
        "    'G' : ['H'],\n",
        "    'H' : ['G']\n",
        "  }\n",
        "\n",
        "visited = set()\n",
        "\n",
        "def dfs(visited, grpah, node):\n",
        "  if node not in visited:\n",
        "    print(node)\n",
        "    visited.add(node)\n",
        "    for neighbour in graph[node]:\n",
        "      dfs(visited, graph,neighbour)\n",
        "\n",
        "print(\"Hasil penulusuran graf menggunakan DFS :\")\n",
        "dfs(visited, graph, 'A')\n"
      ],
      "metadata": {
        "colab": {
          "base_uri": "https://localhost:8080/"
        },
        "id": "s_HvnknQBFRY",
        "outputId": "32a6c0c6-bf03-4026-ab88-b6134cbccacd"
      },
      "execution_count": null,
      "outputs": [
        {
          "output_type": "stream",
          "name": "stdout",
          "text": [
            "Hasil penulusuran graf menggunakan DFS :\n",
            "A\n",
            "B\n",
            "D\n",
            "E\n",
            "F\n",
            "H\n",
            "G\n",
            "C\n"
          ]
        }
      ]
    }
  ]
}