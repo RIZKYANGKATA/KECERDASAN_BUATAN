{
  "nbformat": 4,
  "nbformat_minor": 0,
  "metadata": {
    "colab": {
      "provenance": [],
      "collapsed_sections": [],
      "authorship_tag": "ABX9TyM1kjVa6aDCwt7HO/F08+po",
      "include_colab_link": true
    },
    "kernelspec": {
      "name": "python3",
      "display_name": "Python 3"
    },
    "language_info": {
      "name": "python"
    }
  },
  "cells": [
    {
      "cell_type": "markdown",
      "metadata": {
        "id": "view-in-github",
        "colab_type": "text"
      },
      "source": [
        "<a href=\"https://colab.research.google.com/github/RIZKYANGKATA/RIZKYANGKATA/blob/main/Informed_seacrh.ipynb\" target=\"_parent\"><img src=\"https://colab.research.google.com/assets/colab-badge.svg\" alt=\"Open In Colab\"/></a>"
      ]
    },
    {
      "cell_type": "code",
      "execution_count": 1,
      "metadata": {
        "id": "Rq7SRS1ArU9j",
        "colab": {
          "base_uri": "https://localhost:8080/"
        },
        "outputId": "a10bbcf8-d854-4bc7-e860-56e76b4d6ed8"
      },
      "outputs": [
        {
          "output_type": "stream",
          "name": "stdout",
          "text": [
            "Path found: ['A', 'B', 'D']\n"
          ]
        },
        {
          "output_type": "execute_result",
          "data": {
            "text/plain": [
              "['A', 'B', 'D']"
            ]
          },
          "metadata": {},
          "execution_count": 1
        }
      ],
      "source": [
        "class Graph:\n",
        "  def __init__(self, adjacency_list):\n",
        "      self.adjacency_list = adjacency_list\n",
        "  def get_neighbors(self, v):\n",
        "      return self.adjacency_list[v]\n",
        "  def h(self, n):\n",
        "      H = {\n",
        "        'A': 1,\n",
        "        'B': 1,\n",
        "        'C': 1,\n",
        "        'D': 1\n",
        "      }\n",
        "      return H[n]\n",
        "  def a_star_algorithm(self, start_node, stop_node):\n",
        "      open_list = set([start_node])\n",
        "      closed_list = set([])\n",
        "      g = {}\n",
        "      g[start_node] = 0\n",
        "      parents = {}\n",
        "      parents[start_node] = start_node\n",
        "      while len(open_list) > 0:\n",
        "          n = None\n",
        "          for v in open_list:\n",
        "              if n == None or g[v] + self.h(v) < g[n] + self.h(n):\n",
        "                  n = v;\n",
        "          if n == None:\n",
        "              print('Path does not exist!')\n",
        "              return None\n",
        "          if n == stop_node:\n",
        "              reconst_path = []\n",
        "              while parents[n] != n:\n",
        "                  reconst_path.append(n)\n",
        "                  n = parents[n]\n",
        "              reconst_path.append(start_node)\n",
        "              reconst_path.reverse()\n",
        "              print('Path found: {}'.format(reconst_path))\n",
        "              return reconst_path\n",
        "          for (m, weight) in self.get_neighbors(n):\n",
        "              if m not in open_list and m not in closed_list:\n",
        "                  open_list.add(m)\n",
        "                  parents[m] = n\n",
        "                  g[m] = g[n] + weight\n",
        "              else:\n",
        "                if g[m] > g[n] + weight:\n",
        "                    g[m] = g[n] + weight\n",
        "                    parents[m] = n\n",
        "                    if m in closed_list:\n",
        "                        closed_list.remove(m)\n",
        "                        open_list.add(m)\n",
        "          open_list.remove(n)\n",
        "          closed_list.add(n)\n",
        "      print('Path does not exist!')\n",
        "      return None\n",
        "adjacency_list = {\n",
        "    'A': [('B', 1), ('C', 3), ('D', 7)],\n",
        "    'B': [('D', 5)],\n",
        "    'C':  [('D', 12)]\n",
        "}\n",
        "graph1 = Graph(adjacency_list)\n",
        "graph1.a_star_algorithm('A', 'D')"
      ]
    },
    {
      "cell_type": "code",
      "source": [
        "DAG = {\n",
        "    'A' : {'C' : 4, 'G' : 9},\n",
        "    'B' : {'E' : 6},\n",
        "    'C' : {'D' : 6, 'H' : 12},\n",
        "    'D' : {'E' : 7},\n",
        "    'H' : {'F' : 15},\n",
        "    'E' : {'F' : 8},\n",
        "    'F' : {'B' : 5}\n",
        "}\n",
        "def shortest_path(graph, source, dest):\n",
        "    result =[]\n",
        "    result.append(source)\n",
        "    while dest not in result:\n",
        "        current_node = result[-1]\n",
        "        local_max = min(graph[current_node].values())\n",
        "        for node, weight in graph[current_node].items():\n",
        "            if weight == local_max:\n",
        "                result.append(node)\n",
        "    return result\n",
        "print(\"Hasil pencarian algoritma greedy:\")\n",
        "shortest_path(DAG, 'A', 'F')"
      ],
      "metadata": {
        "colab": {
          "base_uri": "https://localhost:8080/"
        },
        "id": "nCWFU2Uj779y",
        "outputId": "4aa88853-2d66-483e-f85c-bc6220b089cd"
      },
      "execution_count": 2,
      "outputs": [
        {
          "output_type": "stream",
          "name": "stdout",
          "text": [
            "Hasil pencarian algoritma greedy:\n"
          ]
        },
        {
          "output_type": "execute_result",
          "data": {
            "text/plain": [
              "['A', 'C', 'D', 'E', 'F']"
            ]
          },
          "metadata": {},
          "execution_count": 2
        }
      ]
    },
    {
      "cell_type": "code",
      "source": [
        "from operator import itemgetter,attrgetter\n",
        "w =[3,4,1,7,6,8,9]\n",
        "p =[4,5,2,5,5,6,8,11]\n",
        "item =[[3,4],[4,5],[1,2],[7,5],[6,5],[8,8],[9,11]]\n",
        "i=0\n",
        "while i<len(item):\n",
        "  hasil = item[i][1]/item[i][0]\n",
        "  item[i].append(hasil)\n",
        "  i += 1\n",
        "data = sorted(item,key=itemgetter(2), reverse = True)\n",
        "def knapsack(data,cap,flag):\n",
        "  total=0\n",
        "  tres = \"\"\n",
        "  if(flag==0):\n",
        "    total=0\n",
        "    tres = \"\"\n",
        "    if(flag==0):\n",
        "      dataS = sorted(data,key=itemgetter(flag), reverse = True)\n",
        "      tres=\"Bobot priorotas :\"\n",
        "    elif(flag==1):\n",
        "      dataS =sorted(data, key=itemgetter(flag), reverse= True)\n",
        "      tres=\"Keuntungan prioritas : \"\n",
        "    elif(flag==2):\n",
        "      dataS = sorted(data,key=itemgetter(flag), reverse= True)\n",
        "      tres=\"p prioritas : \"\n",
        "    else:\n",
        "      return \"Error\"\n",
        "    j=0\n",
        "    hasil=0\n",
        "    cek=0\n",
        "    weight=0\n",
        "    while(j<len(dataS)):\n",
        "      if(cek+dataS[j][0]<=cap):\n",
        "        hasil=hasil+dataS[j][1]\n",
        "        weight=weight+dataS[j][0]\n",
        "        print(dataS[j][0])\n",
        "      cek= weight\n",
        "      j+=1;\n",
        "    return(\"Optimal dalam \" +str(tres)+str(hasil))\n",
        "print(knapsack(item,20,0))\n",
        "print(knapsack(item,20,1))\n",
        "print(knapsack(item,20,2))"
      ],
      "metadata": {
        "colab": {
          "base_uri": "https://localhost:8080/"
        },
        "id": "JuQhlOL48Bs3",
        "outputId": "27aacc80-0daf-4e24-e6d3-48bb3d55827b"
      },
      "execution_count": 3,
      "outputs": [
        {
          "output_type": "stream",
          "name": "stdout",
          "text": [
            "9\n",
            "8\n",
            "3\n",
            "Optimal dalam Bobot priorotas :23\n",
            "None\n",
            "None\n"
          ]
        }
      ]
    }
  ]
}