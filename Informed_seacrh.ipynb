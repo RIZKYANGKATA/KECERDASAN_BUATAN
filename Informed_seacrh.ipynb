{
  "nbformat": 4,
  "nbformat_minor": 0,
  "metadata": {
    "colab": {
      "provenance": [],
      "authorship_tag": "ABX9TyOUa+IDy149khB8xg6YIpWu",
      "include_colab_link": true
    },
    "kernelspec": {
      "name": "python3",
      "display_name": "Python 3"
    },
    "language_info": {
      "name": "python"
    }
  },
  "cells": [
    {
      "cell_type": "markdown",
      "metadata": {
        "id": "view-in-github",
        "colab_type": "text"
      },
      "source": [
        "<a href=\"https://colab.research.google.com/github/RIZKYANGKATA/RIZKYANGKATA/blob/main/Informed_seacrh.ipynb\" target=\"_parent\"><img src=\"https://colab.research.google.com/assets/colab-badge.svg\" alt=\"Open In Colab\"/></a>"
      ]
    },
    {
      "cell_type": "code",
      "execution_count": 3,
      "metadata": {
        "id": "Rq7SRS1ArU9j"
      },
      "outputs": [],
      "source": [
        "class Graph:\n",
        "\n",
        "    def __init__(self, adjacency_list):\n",
        "        self.adjacency_list = adjacency_list\n",
        "\n",
        "    def get_neighbors(self, v):\n",
        "        return self.adjacency_list[v]\n",
        "\n",
        "    # heuristic function with equal values for all nodes\n",
        "    def h(self, n):\n",
        "        H = {\n",
        "            'A': 1,\n",
        "            'B': 1,\n",
        "            'C': 1,\n",
        "            'D': 1\n",
        "        }\n",
        "\n",
        "        return H[n]\n",
        "\n",
        "    def a_start_algorithm(self, start_node, stop_node):\n",
        "      #open_list is a list of nodes which have been visited, but who's neighbors\n",
        "      #haven't all been inspected, starts off with the start node\n",
        "      #closed_list is a list of nodes which have been visited\n",
        "      #and who's neighbors have been inspected\n",
        "      g = {}\n",
        "      while len(open_list) > 0:\n",
        "        n = None\n",
        "\n",
        "        #find a node with a the lowest value of f() - evaluation function\n",
        "        for v in open_list:\n",
        "          if n == None or g[v] + self.h[v] < g[n] + self.g[n]:\n",
        "            n = v;\n",
        "\n",
        "        if n == None:\n",
        "          print(\"Path does not exist!\")\n",
        "          return None"
      ]
    }
  ]
}